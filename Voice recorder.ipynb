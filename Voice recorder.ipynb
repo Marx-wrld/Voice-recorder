{
 "cells": [
  {
   "cell_type": "code",
   "execution_count": 1,
   "id": "96d66a29",
   "metadata": {},
   "outputs": [
    {
     "name": "stdout",
     "output_type": "stream",
     "text": [
      "Requirement already satisfied: scipy in c:\\users\\marx\\anaconda3\\lib\\site-packages (1.7.1)\n",
      "Requirement already satisfied: numpy<1.23.0,>=1.16.5 in c:\\users\\marx\\anaconda3\\lib\\site-packages (from scipy) (1.20.3)\n",
      "Note: you may need to restart the kernel to use updated packages.\n"
     ]
    }
   ],
   "source": [
    "pip install scipy"
   ]
  },
  {
   "cell_type": "code",
   "execution_count": 2,
   "id": "a4dbbc69",
   "metadata": {},
   "outputs": [
    {
     "name": "stdout",
     "output_type": "stream",
     "text": [
      "Collecting sounddevice\n",
      "  Downloading sounddevice-0.4.4-py3-none-win_amd64.whl (195 kB)\n",
      "Requirement already satisfied: CFFI>=1.0 in c:\\users\\marx\\anaconda3\\lib\\site-packages (from sounddevice) (1.14.6)\n",
      "Requirement already satisfied: pycparser in c:\\users\\marx\\anaconda3\\lib\\site-packages (from CFFI>=1.0->sounddevice) (2.20)\n",
      "Installing collected packages: sounddevice\n",
      "Successfully installed sounddevice-0.4.4\n",
      "Note: you may need to restart the kernel to use updated packages.\n"
     ]
    }
   ],
   "source": [
    "pip install sounddevice"
   ]
  },
  {
   "cell_type": "code",
   "execution_count": 5,
   "id": "af713845",
   "metadata": {},
   "outputs": [],
   "source": [
    "import sounddevice\n",
    "from scipy.io.wavfile import write"
   ]
  },
  {
   "cell_type": "code",
   "execution_count": 7,
   "id": "8139d167",
   "metadata": {},
   "outputs": [
    {
     "name": "stdout",
     "output_type": "stream",
     "text": [
      "Enter the Recording time in seconds: 35\n",
      "Recording...\n",
      "\n",
      "Recording is done, please check your folder to listen to the recording\n"
     ]
    }
   ],
   "source": [
    "#sample rate\n",
    "fs = 44100\n",
    "\n",
    "#Ask to enter the recording time\n",
    "second = int(input(\"Enter the Recording time in seconds: \"))\n",
    "print(\"Recording...\\n\")\n",
    "record_voice = sounddevice.rec(int(second * fs), samplerate = fs, channels = 2)\n",
    "sounddevice.wait()\n",
    "write(\"MyRecording.wav\", fs, record_voice)\n",
    "print(\"Recording is done, please check your folder to listen to the recording\")\n"
   ]
  },
  {
   "cell_type": "code",
   "execution_count": null,
   "id": "4c4175e8",
   "metadata": {},
   "outputs": [],
   "source": []
  }
 ],
 "metadata": {
  "kernelspec": {
   "display_name": "Python 3 (ipykernel)",
   "language": "python",
   "name": "python3"
  },
  "language_info": {
   "codemirror_mode": {
    "name": "ipython",
    "version": 3
   },
   "file_extension": ".py",
   "mimetype": "text/x-python",
   "name": "python",
   "nbconvert_exporter": "python",
   "pygments_lexer": "ipython3",
   "version": "3.9.7"
  }
 },
 "nbformat": 4,
 "nbformat_minor": 5
}
